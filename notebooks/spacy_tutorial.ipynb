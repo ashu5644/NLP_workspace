{
  "nbformat": 4,
  "nbformat_minor": 0,
  "metadata": {
    "colab": {
      "provenance": [],
      "authorship_tag": "ABX9TyM3ttKBP4PMUi8fH5th6i6n",
      "include_colab_link": true
    },
    "kernelspec": {
      "name": "python3",
      "display_name": "Python 3"
    },
    "language_info": {
      "name": "python"
    }
  },
  "cells": [
    {
      "cell_type": "markdown",
      "metadata": {
        "id": "view-in-github",
        "colab_type": "text"
      },
      "source": [
        "<a href=\"https://colab.research.google.com/github/ashu5644/NLP_workspace/blob/main/notebooks/spacy_tutorial.ipynb\" target=\"_parent\"><img src=\"https://colab.research.google.com/assets/colab-badge.svg\" alt=\"Open In Colab\"/></a>"
      ]
    },
    {
      "cell_type": "code",
      "execution_count": 1,
      "metadata": {
        "id": "MJ6LogUYD6Kd"
      },
      "outputs": [],
      "source": [
        "import spacy"
      ]
    },
    {
      "cell_type": "markdown",
      "source": [
        "Lingustic Annotations"
      ],
      "metadata": {
        "id": "ID6UTvycE9bz"
      }
    },
    {
      "cell_type": "code",
      "source": [
        "nlp = spacy.load(\"en_core_web_sm\")\n",
        "doc = nlp(\"Apple is looking at buying U.K. startup for $1 billion\")\n",
        "for token in doc:\n",
        "  print(f'TOKEN_TEXT: {token.text}, TOKEN_POS:{token.pos_}, TOKEN_DEP: {token.dep_}')"
      ],
      "metadata": {
        "colab": {
          "base_uri": "https://localhost:8080/"
        },
        "id": "Br7OiQG_EA9G",
        "outputId": "30fbe8df-65e7-4a61-d82a-4c644adc1483"
      },
      "execution_count": 3,
      "outputs": [
        {
          "output_type": "stream",
          "name": "stdout",
          "text": [
            "TOKEN_TEXT: Apple, TOKEN_POS:PROPN, TOKEN_DEP: nsubj\n",
            "TOKEN_TEXT: is, TOKEN_POS:AUX, TOKEN_DEP: aux\n",
            "TOKEN_TEXT: looking, TOKEN_POS:VERB, TOKEN_DEP: ROOT\n",
            "TOKEN_TEXT: at, TOKEN_POS:ADP, TOKEN_DEP: prep\n",
            "TOKEN_TEXT: buying, TOKEN_POS:VERB, TOKEN_DEP: pcomp\n",
            "TOKEN_TEXT: U.K., TOKEN_POS:PROPN, TOKEN_DEP: dobj\n",
            "TOKEN_TEXT: startup, TOKEN_POS:NOUN, TOKEN_DEP: dep\n",
            "TOKEN_TEXT: for, TOKEN_POS:ADP, TOKEN_DEP: prep\n",
            "TOKEN_TEXT: $, TOKEN_POS:SYM, TOKEN_DEP: quantmod\n",
            "TOKEN_TEXT: 1, TOKEN_POS:NUM, TOKEN_DEP: compound\n",
            "TOKEN_TEXT: billion, TOKEN_POS:NUM, TOKEN_DEP: pobj\n"
          ]
        }
      ]
    },
    {
      "cell_type": "markdown",
      "source": [
        "Tokenization"
      ],
      "metadata": {
        "id": "31CJlkASF1sX"
      }
    },
    {
      "cell_type": "code",
      "source": [
        "doc = nlp(\"Apple is looking at buying U.K. startup for $1 billion\")\n",
        "for token in doc:\n",
        "  print(f'token: {token}')"
      ],
      "metadata": {
        "colab": {
          "base_uri": "https://localhost:8080/"
        },
        "id": "JOHiPOWpFVNr",
        "outputId": "789fe082-fb42-48e3-e302-c6c514160e8f"
      },
      "execution_count": 4,
      "outputs": [
        {
          "output_type": "stream",
          "name": "stdout",
          "text": [
            "token: Apple\n",
            "token: is\n",
            "token: looking\n",
            "token: at\n",
            "token: buying\n",
            "token: U.K.\n",
            "token: startup\n",
            "token: for\n",
            "token: $\n",
            "token: 1\n",
            "token: billion\n"
          ]
        }
      ]
    },
    {
      "cell_type": "markdown",
      "source": [
        "POS and Dependencies"
      ],
      "metadata": {
        "id": "fgPKB7LRHEH5"
      }
    },
    {
      "cell_type": "code",
      "source": [
        "doc = nlp(\"Apple is looking at buying U.K. startup for $1 billion\")\n",
        "import pandas as pd\n",
        "df = pd.DataFrame()\n",
        "for idx, token in enumerate(doc):\n",
        "  df.loc[idx, 'text'] = token.text\n",
        "  df.loc[idx, 'lemma'] = token.lemma_\n",
        "  df.loc[idx, 'pos'] = token.pos_\n",
        "  df.loc[idx, 'tag'] = token.tag_\n",
        "  df.loc[idx, 'dep'] = token.dep_\n",
        "  df.loc[idx, 'shape'] = token.shape_\n",
        "  df.loc[idx, 'is_alpha'] = token.is_alpha\n",
        "  df.loc[idx, 'is_stop'] = token.is_stop\n",
        "df"
      ],
      "metadata": {
        "colab": {
          "base_uri": "https://localhost:8080/",
          "height": 394
        },
        "id": "PidCMw6MF_hJ",
        "outputId": "b0705c21-9fbb-4675-ad45-300a201eca26"
      },
      "execution_count": 7,
      "outputs": [
        {
          "output_type": "execute_result",
          "data": {
            "text/plain": [
              "       text    lemma    pos  tag       dep  shape is_alpha is_stop\n",
              "0     Apple    Apple  PROPN  NNP     nsubj  Xxxxx     True   False\n",
              "1        is       be    AUX  VBZ       aux     xx     True    True\n",
              "2   looking     look   VERB  VBG      ROOT   xxxx     True   False\n",
              "3        at       at    ADP   IN      prep     xx     True    True\n",
              "4    buying      buy   VERB  VBG     pcomp   xxxx     True   False\n",
              "5      U.K.     U.K.  PROPN  NNP      dobj   X.X.    False   False\n",
              "6   startup  startup   NOUN   NN       dep   xxxx     True   False\n",
              "7       for      for    ADP   IN      prep    xxx     True    True\n",
              "8         $        $    SYM    $  quantmod      $    False   False\n",
              "9         1        1    NUM   CD  compound      d    False   False\n",
              "10  billion  billion    NUM   CD      pobj   xxxx     True   False"
            ],
            "text/html": [
              "\n",
              "  <div id=\"df-f6b07037-e3d7-4ab4-9b6a-42d1fba83d9f\">\n",
              "    <div class=\"colab-df-container\">\n",
              "      <div>\n",
              "<style scoped>\n",
              "    .dataframe tbody tr th:only-of-type {\n",
              "        vertical-align: middle;\n",
              "    }\n",
              "\n",
              "    .dataframe tbody tr th {\n",
              "        vertical-align: top;\n",
              "    }\n",
              "\n",
              "    .dataframe thead th {\n",
              "        text-align: right;\n",
              "    }\n",
              "</style>\n",
              "<table border=\"1\" class=\"dataframe\">\n",
              "  <thead>\n",
              "    <tr style=\"text-align: right;\">\n",
              "      <th></th>\n",
              "      <th>text</th>\n",
              "      <th>lemma</th>\n",
              "      <th>pos</th>\n",
              "      <th>tag</th>\n",
              "      <th>dep</th>\n",
              "      <th>shape</th>\n",
              "      <th>is_alpha</th>\n",
              "      <th>is_stop</th>\n",
              "    </tr>\n",
              "  </thead>\n",
              "  <tbody>\n",
              "    <tr>\n",
              "      <th>0</th>\n",
              "      <td>Apple</td>\n",
              "      <td>Apple</td>\n",
              "      <td>PROPN</td>\n",
              "      <td>NNP</td>\n",
              "      <td>nsubj</td>\n",
              "      <td>Xxxxx</td>\n",
              "      <td>True</td>\n",
              "      <td>False</td>\n",
              "    </tr>\n",
              "    <tr>\n",
              "      <th>1</th>\n",
              "      <td>is</td>\n",
              "      <td>be</td>\n",
              "      <td>AUX</td>\n",
              "      <td>VBZ</td>\n",
              "      <td>aux</td>\n",
              "      <td>xx</td>\n",
              "      <td>True</td>\n",
              "      <td>True</td>\n",
              "    </tr>\n",
              "    <tr>\n",
              "      <th>2</th>\n",
              "      <td>looking</td>\n",
              "      <td>look</td>\n",
              "      <td>VERB</td>\n",
              "      <td>VBG</td>\n",
              "      <td>ROOT</td>\n",
              "      <td>xxxx</td>\n",
              "      <td>True</td>\n",
              "      <td>False</td>\n",
              "    </tr>\n",
              "    <tr>\n",
              "      <th>3</th>\n",
              "      <td>at</td>\n",
              "      <td>at</td>\n",
              "      <td>ADP</td>\n",
              "      <td>IN</td>\n",
              "      <td>prep</td>\n",
              "      <td>xx</td>\n",
              "      <td>True</td>\n",
              "      <td>True</td>\n",
              "    </tr>\n",
              "    <tr>\n",
              "      <th>4</th>\n",
              "      <td>buying</td>\n",
              "      <td>buy</td>\n",
              "      <td>VERB</td>\n",
              "      <td>VBG</td>\n",
              "      <td>pcomp</td>\n",
              "      <td>xxxx</td>\n",
              "      <td>True</td>\n",
              "      <td>False</td>\n",
              "    </tr>\n",
              "    <tr>\n",
              "      <th>5</th>\n",
              "      <td>U.K.</td>\n",
              "      <td>U.K.</td>\n",
              "      <td>PROPN</td>\n",
              "      <td>NNP</td>\n",
              "      <td>dobj</td>\n",
              "      <td>X.X.</td>\n",
              "      <td>False</td>\n",
              "      <td>False</td>\n",
              "    </tr>\n",
              "    <tr>\n",
              "      <th>6</th>\n",
              "      <td>startup</td>\n",
              "      <td>startup</td>\n",
              "      <td>NOUN</td>\n",
              "      <td>NN</td>\n",
              "      <td>dep</td>\n",
              "      <td>xxxx</td>\n",
              "      <td>True</td>\n",
              "      <td>False</td>\n",
              "    </tr>\n",
              "    <tr>\n",
              "      <th>7</th>\n",
              "      <td>for</td>\n",
              "      <td>for</td>\n",
              "      <td>ADP</td>\n",
              "      <td>IN</td>\n",
              "      <td>prep</td>\n",
              "      <td>xxx</td>\n",
              "      <td>True</td>\n",
              "      <td>True</td>\n",
              "    </tr>\n",
              "    <tr>\n",
              "      <th>8</th>\n",
              "      <td>$</td>\n",
              "      <td>$</td>\n",
              "      <td>SYM</td>\n",
              "      <td>$</td>\n",
              "      <td>quantmod</td>\n",
              "      <td>$</td>\n",
              "      <td>False</td>\n",
              "      <td>False</td>\n",
              "    </tr>\n",
              "    <tr>\n",
              "      <th>9</th>\n",
              "      <td>1</td>\n",
              "      <td>1</td>\n",
              "      <td>NUM</td>\n",
              "      <td>CD</td>\n",
              "      <td>compound</td>\n",
              "      <td>d</td>\n",
              "      <td>False</td>\n",
              "      <td>False</td>\n",
              "    </tr>\n",
              "    <tr>\n",
              "      <th>10</th>\n",
              "      <td>billion</td>\n",
              "      <td>billion</td>\n",
              "      <td>NUM</td>\n",
              "      <td>CD</td>\n",
              "      <td>pobj</td>\n",
              "      <td>xxxx</td>\n",
              "      <td>True</td>\n",
              "      <td>False</td>\n",
              "    </tr>\n",
              "  </tbody>\n",
              "</table>\n",
              "</div>\n",
              "      <button class=\"colab-df-convert\" onclick=\"convertToInteractive('df-f6b07037-e3d7-4ab4-9b6a-42d1fba83d9f')\"\n",
              "              title=\"Convert this dataframe to an interactive table.\"\n",
              "              style=\"display:none;\">\n",
              "        \n",
              "  <svg xmlns=\"http://www.w3.org/2000/svg\" height=\"24px\"viewBox=\"0 0 24 24\"\n",
              "       width=\"24px\">\n",
              "    <path d=\"M0 0h24v24H0V0z\" fill=\"none\"/>\n",
              "    <path d=\"M18.56 5.44l.94 2.06.94-2.06 2.06-.94-2.06-.94-.94-2.06-.94 2.06-2.06.94zm-11 1L8.5 8.5l.94-2.06 2.06-.94-2.06-.94L8.5 2.5l-.94 2.06-2.06.94zm10 10l.94 2.06.94-2.06 2.06-.94-2.06-.94-.94-2.06-.94 2.06-2.06.94z\"/><path d=\"M17.41 7.96l-1.37-1.37c-.4-.4-.92-.59-1.43-.59-.52 0-1.04.2-1.43.59L10.3 9.45l-7.72 7.72c-.78.78-.78 2.05 0 2.83L4 21.41c.39.39.9.59 1.41.59.51 0 1.02-.2 1.41-.59l7.78-7.78 2.81-2.81c.8-.78.8-2.07 0-2.86zM5.41 20L4 18.59l7.72-7.72 1.47 1.35L5.41 20z\"/>\n",
              "  </svg>\n",
              "      </button>\n",
              "      \n",
              "  <style>\n",
              "    .colab-df-container {\n",
              "      display:flex;\n",
              "      flex-wrap:wrap;\n",
              "      gap: 12px;\n",
              "    }\n",
              "\n",
              "    .colab-df-convert {\n",
              "      background-color: #E8F0FE;\n",
              "      border: none;\n",
              "      border-radius: 50%;\n",
              "      cursor: pointer;\n",
              "      display: none;\n",
              "      fill: #1967D2;\n",
              "      height: 32px;\n",
              "      padding: 0 0 0 0;\n",
              "      width: 32px;\n",
              "    }\n",
              "\n",
              "    .colab-df-convert:hover {\n",
              "      background-color: #E2EBFA;\n",
              "      box-shadow: 0px 1px 2px rgba(60, 64, 67, 0.3), 0px 1px 3px 1px rgba(60, 64, 67, 0.15);\n",
              "      fill: #174EA6;\n",
              "    }\n",
              "\n",
              "    [theme=dark] .colab-df-convert {\n",
              "      background-color: #3B4455;\n",
              "      fill: #D2E3FC;\n",
              "    }\n",
              "\n",
              "    [theme=dark] .colab-df-convert:hover {\n",
              "      background-color: #434B5C;\n",
              "      box-shadow: 0px 1px 3px 1px rgba(0, 0, 0, 0.15);\n",
              "      filter: drop-shadow(0px 1px 2px rgba(0, 0, 0, 0.3));\n",
              "      fill: #FFFFFF;\n",
              "    }\n",
              "  </style>\n",
              "\n",
              "      <script>\n",
              "        const buttonEl =\n",
              "          document.querySelector('#df-f6b07037-e3d7-4ab4-9b6a-42d1fba83d9f button.colab-df-convert');\n",
              "        buttonEl.style.display =\n",
              "          google.colab.kernel.accessAllowed ? 'block' : 'none';\n",
              "\n",
              "        async function convertToInteractive(key) {\n",
              "          const element = document.querySelector('#df-f6b07037-e3d7-4ab4-9b6a-42d1fba83d9f');\n",
              "          const dataTable =\n",
              "            await google.colab.kernel.invokeFunction('convertToInteractive',\n",
              "                                                     [key], {});\n",
              "          if (!dataTable) return;\n",
              "\n",
              "          const docLinkHtml = 'Like what you see? Visit the ' +\n",
              "            '<a target=\"_blank\" href=https://colab.research.google.com/notebooks/data_table.ipynb>data table notebook</a>'\n",
              "            + ' to learn more about interactive tables.';\n",
              "          element.innerHTML = '';\n",
              "          dataTable['output_type'] = 'display_data';\n",
              "          await google.colab.output.renderOutput(dataTable, element);\n",
              "          const docLink = document.createElement('div');\n",
              "          docLink.innerHTML = docLinkHtml;\n",
              "          element.appendChild(docLink);\n",
              "        }\n",
              "      </script>\n",
              "    </div>\n",
              "  </div>\n",
              "  "
            ]
          },
          "metadata": {},
          "execution_count": 7
        }
      ]
    },
    {
      "cell_type": "markdown",
      "source": [
        "Visulization"
      ],
      "metadata": {
        "id": "ESJpVeYSIOBI"
      }
    },
    {
      "cell_type": "code",
      "source": [
        "from spacy import displacy\n",
        "doc = nlp(\"Apple is looking at buying U.K. startup for $1 billion\")\n",
        "displacy.serve(doc, style=\"dep\")"
      ],
      "metadata": {
        "colab": {
          "base_uri": "https://localhost:8080/"
        },
        "id": "Oke9ycBpHPV6",
        "outputId": "89b96b72-e9fd-4d8e-f098-73b18d6a5280"
      },
      "execution_count": 8,
      "outputs": [
        {
          "output_type": "stream",
          "name": "stdout",
          "text": [
            "\n",
            "Using the 'dep' visualizer\n",
            "Serving on http://0.0.0.0:5000 ...\n",
            "\n",
            "Shutting down server on port 5000.\n"
          ]
        }
      ]
    },
    {
      "cell_type": "markdown",
      "source": [
        "Named Entity"
      ],
      "metadata": {
        "id": "GnTEEy--IkCQ"
      }
    },
    {
      "cell_type": "code",
      "source": [
        "nlp = spacy.load(\"en_core_web_sm\")\n",
        "doc = nlp(\"Apple is looking at buying U.K. startup for $1 billion\")\n",
        "df = pd.DataFrame()\n",
        "for idx, ent in enumerate(doc.ents):\n",
        "  df.loc[idx, 'text'] = ent.text\n",
        "  df.loc[idx,'start_idx'] = ent.start_char\n",
        "  df.loc[idx, 'end_idx'] = ent.end_char\n",
        "  df.loc[idx, 'entity'] = ent.label_\n",
        "df"
      ],
      "metadata": {
        "colab": {
          "base_uri": "https://localhost:8080/",
          "height": 143
        },
        "id": "SHlhmgRAITnc",
        "outputId": "24a47416-4059-416b-ef68-25c202e7f2de"
      },
      "execution_count": 11,
      "outputs": [
        {
          "output_type": "execute_result",
          "data": {
            "text/plain": [
              "         text  start_idx  end_idx entity\n",
              "0       Apple        0.0      5.0    ORG\n",
              "1        U.K.       27.0     31.0    GPE\n",
              "2  $1 billion       44.0     54.0  MONEY"
            ],
            "text/html": [
              "\n",
              "  <div id=\"df-11a95435-5d71-44e5-a1d8-324f683f0cc8\">\n",
              "    <div class=\"colab-df-container\">\n",
              "      <div>\n",
              "<style scoped>\n",
              "    .dataframe tbody tr th:only-of-type {\n",
              "        vertical-align: middle;\n",
              "    }\n",
              "\n",
              "    .dataframe tbody tr th {\n",
              "        vertical-align: top;\n",
              "    }\n",
              "\n",
              "    .dataframe thead th {\n",
              "        text-align: right;\n",
              "    }\n",
              "</style>\n",
              "<table border=\"1\" class=\"dataframe\">\n",
              "  <thead>\n",
              "    <tr style=\"text-align: right;\">\n",
              "      <th></th>\n",
              "      <th>text</th>\n",
              "      <th>start_idx</th>\n",
              "      <th>end_idx</th>\n",
              "      <th>entity</th>\n",
              "    </tr>\n",
              "  </thead>\n",
              "  <tbody>\n",
              "    <tr>\n",
              "      <th>0</th>\n",
              "      <td>Apple</td>\n",
              "      <td>0.0</td>\n",
              "      <td>5.0</td>\n",
              "      <td>ORG</td>\n",
              "    </tr>\n",
              "    <tr>\n",
              "      <th>1</th>\n",
              "      <td>U.K.</td>\n",
              "      <td>27.0</td>\n",
              "      <td>31.0</td>\n",
              "      <td>GPE</td>\n",
              "    </tr>\n",
              "    <tr>\n",
              "      <th>2</th>\n",
              "      <td>$1 billion</td>\n",
              "      <td>44.0</td>\n",
              "      <td>54.0</td>\n",
              "      <td>MONEY</td>\n",
              "    </tr>\n",
              "  </tbody>\n",
              "</table>\n",
              "</div>\n",
              "      <button class=\"colab-df-convert\" onclick=\"convertToInteractive('df-11a95435-5d71-44e5-a1d8-324f683f0cc8')\"\n",
              "              title=\"Convert this dataframe to an interactive table.\"\n",
              "              style=\"display:none;\">\n",
              "        \n",
              "  <svg xmlns=\"http://www.w3.org/2000/svg\" height=\"24px\"viewBox=\"0 0 24 24\"\n",
              "       width=\"24px\">\n",
              "    <path d=\"M0 0h24v24H0V0z\" fill=\"none\"/>\n",
              "    <path d=\"M18.56 5.44l.94 2.06.94-2.06 2.06-.94-2.06-.94-.94-2.06-.94 2.06-2.06.94zm-11 1L8.5 8.5l.94-2.06 2.06-.94-2.06-.94L8.5 2.5l-.94 2.06-2.06.94zm10 10l.94 2.06.94-2.06 2.06-.94-2.06-.94-.94-2.06-.94 2.06-2.06.94z\"/><path d=\"M17.41 7.96l-1.37-1.37c-.4-.4-.92-.59-1.43-.59-.52 0-1.04.2-1.43.59L10.3 9.45l-7.72 7.72c-.78.78-.78 2.05 0 2.83L4 21.41c.39.39.9.59 1.41.59.51 0 1.02-.2 1.41-.59l7.78-7.78 2.81-2.81c.8-.78.8-2.07 0-2.86zM5.41 20L4 18.59l7.72-7.72 1.47 1.35L5.41 20z\"/>\n",
              "  </svg>\n",
              "      </button>\n",
              "      \n",
              "  <style>\n",
              "    .colab-df-container {\n",
              "      display:flex;\n",
              "      flex-wrap:wrap;\n",
              "      gap: 12px;\n",
              "    }\n",
              "\n",
              "    .colab-df-convert {\n",
              "      background-color: #E8F0FE;\n",
              "      border: none;\n",
              "      border-radius: 50%;\n",
              "      cursor: pointer;\n",
              "      display: none;\n",
              "      fill: #1967D2;\n",
              "      height: 32px;\n",
              "      padding: 0 0 0 0;\n",
              "      width: 32px;\n",
              "    }\n",
              "\n",
              "    .colab-df-convert:hover {\n",
              "      background-color: #E2EBFA;\n",
              "      box-shadow: 0px 1px 2px rgba(60, 64, 67, 0.3), 0px 1px 3px 1px rgba(60, 64, 67, 0.15);\n",
              "      fill: #174EA6;\n",
              "    }\n",
              "\n",
              "    [theme=dark] .colab-df-convert {\n",
              "      background-color: #3B4455;\n",
              "      fill: #D2E3FC;\n",
              "    }\n",
              "\n",
              "    [theme=dark] .colab-df-convert:hover {\n",
              "      background-color: #434B5C;\n",
              "      box-shadow: 0px 1px 3px 1px rgba(0, 0, 0, 0.15);\n",
              "      filter: drop-shadow(0px 1px 2px rgba(0, 0, 0, 0.3));\n",
              "      fill: #FFFFFF;\n",
              "    }\n",
              "  </style>\n",
              "\n",
              "      <script>\n",
              "        const buttonEl =\n",
              "          document.querySelector('#df-11a95435-5d71-44e5-a1d8-324f683f0cc8 button.colab-df-convert');\n",
              "        buttonEl.style.display =\n",
              "          google.colab.kernel.accessAllowed ? 'block' : 'none';\n",
              "\n",
              "        async function convertToInteractive(key) {\n",
              "          const element = document.querySelector('#df-11a95435-5d71-44e5-a1d8-324f683f0cc8');\n",
              "          const dataTable =\n",
              "            await google.colab.kernel.invokeFunction('convertToInteractive',\n",
              "                                                     [key], {});\n",
              "          if (!dataTable) return;\n",
              "\n",
              "          const docLinkHtml = 'Like what you see? Visit the ' +\n",
              "            '<a target=\"_blank\" href=https://colab.research.google.com/notebooks/data_table.ipynb>data table notebook</a>'\n",
              "            + ' to learn more about interactive tables.';\n",
              "          element.innerHTML = '';\n",
              "          dataTable['output_type'] = 'display_data';\n",
              "          await google.colab.output.renderOutput(dataTable, element);\n",
              "          const docLink = document.createElement('div');\n",
              "          docLink.innerHTML = docLinkHtml;\n",
              "          element.appendChild(docLink);\n",
              "        }\n",
              "      </script>\n",
              "    </div>\n",
              "  </div>\n",
              "  "
            ]
          },
          "metadata": {},
          "execution_count": 11
        }
      ]
    },
    {
      "cell_type": "markdown",
      "source": [
        "Word Vectors"
      ],
      "metadata": {
        "id": "RzWosMEnJyT9"
      }
    },
    {
      "cell_type": "code",
      "source": [
        "doc = nlp(\"Apple is looking at buying U.K. startup for $1 billion\")\n",
        "for token in doc:\n",
        "  print(token.text, token.has_vector, token.vector_norm, token.is_oov, token.vector)\n",
        "  break"
      ],
      "metadata": {
        "colab": {
          "base_uri": "https://localhost:8080/"
        },
        "id": "7Mcs6LB0JF5E",
        "outputId": "1d0a2fbf-68d5-44ad-cafa-5242b741624c"
      },
      "execution_count": 16,
      "outputs": [
        {
          "output_type": "stream",
          "name": "stdout",
          "text": [
            "Apple True 8.6495 True [-1.23110223e+00 -1.19172668e+00  1.58404320e-01  3.59881461e-01\n",
            "  6.80532396e-01  1.70100391e-01  1.32927656e+00  8.85804072e-02\n",
            " -7.72866249e-01 -6.79355115e-02  1.04016542e+00  7.55584240e-03\n",
            " -1.67930603e+00 -4.59604681e-01 -1.09400225e+00 -5.35519540e-01\n",
            "  1.15980649e+00  2.33544409e-03 -7.30589986e-01 -5.64724982e-01\n",
            " -7.49180377e-01  2.19044581e-01  1.00360096e-01  9.37369764e-02\n",
            " -1.13666034e+00  3.31228107e-01  2.32216024e+00  1.18360245e+00\n",
            " -2.16722190e-01  1.58354163e+00  2.49963343e-01 -1.07244039e+00\n",
            "  1.42693490e-01  6.90324783e-01 -4.03066576e-01  5.47101021e-01\n",
            " -4.54420447e-01 -3.23455632e-01 -1.63471639e-01  2.91558909e+00\n",
            " -1.32943809e+00  1.20826773e-01  3.99443865e-01  8.78926873e-01\n",
            " -1.63153493e+00  1.14091444e+00 -4.30475116e-01  1.74879467e+00\n",
            "  6.38306856e-01 -8.98894131e-01 -6.78731680e-01  7.68426299e-01\n",
            " -6.43653631e-01 -1.36196291e+00 -7.04809189e-01 -5.67580342e-01\n",
            "  3.89744520e-01 -4.15740728e-01  2.76996970e-01 -2.90538669e-01\n",
            " -2.18957558e-01  3.72495830e-01  2.63941437e-02  4.32177812e-01\n",
            "  6.86604023e-01 -5.83998442e-01 -1.57339841e-01 -1.07187346e-01\n",
            "  3.51069868e-03 -1.80738568e+00  2.41742730e-02  5.93008578e-01\n",
            "  9.06984746e-01 -3.17161709e-01 -3.04167062e-01 -1.55370176e+00\n",
            "  5.37605435e-02 -1.87450314e+00  5.45807302e-01 -1.52153969e-02\n",
            " -5.67939460e-01 -7.31239319e-02 -5.60767829e-01 -9.75351810e-01\n",
            "  1.39340234e+00  3.54092121e-02  3.47140670e-01 -5.56481928e-02\n",
            "  7.48668075e-01 -6.45106375e-01 -3.34757507e-01 -1.64538503e-01\n",
            "  2.31729198e+00  5.63101470e-01  7.32178688e-02  5.96600354e-01]\n"
          ]
        }
      ]
    },
    {
      "cell_type": "markdown",
      "source": [
        "Similarity"
      ],
      "metadata": {
        "id": "tBgC1Y-6Kcwj"
      }
    },
    {
      "cell_type": "code",
      "source": [
        "doc1 = nlp(\"I am going to jaipur\")\n",
        "doc2 = nlp(\"You are coming from patna\")\n",
        "doc3 = nlp(\"mango is called king of fruits\")\n",
        "doc1.similarity(doc2), doc2.similarity(doc3), doc3.similarity(doc1)"
      ],
      "metadata": {
        "colab": {
          "base_uri": "https://localhost:8080/"
        },
        "id": "8kIyyT4wJ_Nr",
        "outputId": "7d863eda-bfc3-4b24-9165-2f766867ff57"
      },
      "execution_count": 17,
      "outputs": [
        {
          "output_type": "stream",
          "name": "stderr",
          "text": [
            "<ipython-input-17-aedf80ab1455>:4: UserWarning: [W007] The model you're using has no word vectors loaded, so the result of the Doc.similarity method will be based on the tagger, parser and NER, which may not give useful similarity judgements. This may happen if you're using one of the small models, e.g. `en_core_web_sm`, which don't ship with word vectors and only use context-sensitive tensors. You can always add your own word vectors, or use one of the larger models instead if available.\n",
            "  doc1.similarity(doc2), doc2.similarity(doc3), doc3.similarity(doc1)\n"
          ]
        },
        {
          "output_type": "execute_result",
          "data": {
            "text/plain": [
              "(0.6593600391250509, 0.44829684804152065, 0.3138693254694571)"
            ]
          },
          "metadata": {},
          "execution_count": 17
        }
      ]
    },
    {
      "cell_type": "code",
      "source": [],
      "metadata": {
        "id": "Vo1nESZjKxG5"
      },
      "execution_count": null,
      "outputs": []
    }
  ]
}